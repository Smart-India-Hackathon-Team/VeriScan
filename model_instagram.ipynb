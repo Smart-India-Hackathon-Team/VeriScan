{
 "cells": [
  {
   "cell_type": "code",
   "execution_count": 146,
   "metadata": {},
   "outputs": [],
   "source": [
    "import pandas as pd\n",
    "import numpy as np\n",
    "from sklearn.ensemble import RandomForestClassifier\n",
    "from sklearn.model_selection import train_test_split\n",
    "from sklearn.metrics import confusion_matrix\n",
    "import instaloader"
   ]
  },
  {
   "cell_type": "code",
   "execution_count": 147,
   "metadata": {},
   "outputs": [],
   "source": [
    "data = {}\n",
    "data['fake'] = pd.read_csv('Datasets/instagram_fake_users.csv')\n",
    "data['real'] = pd.read_csv(\"Datasets/instagram_real_users.csv\")\n",
    "data['real'] = data['real'].drop(['isFake'], axis = 1)\n",
    "data['fake'] = data['fake'].drop(['isFake'], axis = 1)"
   ]
  },
  {
   "cell_type": "code",
   "execution_count": 148,
   "metadata": {},
   "outputs": [
    {
     "name": "stdout",
     "output_type": "stream",
     "text": [
      "Index(['userFollowerCount', 'userFollowingCount', 'userBiographyLength',\n",
      "       'userMediaCount', 'userHasProfilPic', 'userIsPrivate',\n",
      "       'usernameDigitCount', 'usernameLength'],\n",
      "      dtype='object')\n"
     ]
    }
   ],
   "source": [
    "print(data['real'].columns)"
   ]
  },
  {
   "cell_type": "code",
   "execution_count": 149,
   "metadata": {},
   "outputs": [],
   "source": [
    "data['fake'] = data['fake'].values\n",
    "data['real'] = data['real'].values"
   ]
  },
  {
   "cell_type": "code",
   "execution_count": 150,
   "metadata": {},
   "outputs": [],
   "source": [
    "nans = np.isnan(data[\"real\"])\n",
    "data[\"real\"][nans] = 0\n",
    "\n",
    "nans = np.isnan(data[\"fake\"])\n",
    "data[\"fake\"][nans] = 0"
   ]
  },
  {
   "cell_type": "code",
   "execution_count": 151,
   "metadata": {},
   "outputs": [],
   "source": [
    "X = np.zeros((len(data[\"fake\"]) + len(data[\"real\"]), 8))\n",
    "Y = np.zeros(len(data[\"fake\"]) + len(data[\"real\"]))"
   ]
  },
  {
   "cell_type": "code",
   "execution_count": 152,
   "metadata": {},
   "outputs": [],
   "source": [
    "for i in range(len(data[\"real\"])):\n",
    "    X[i] = data[\"real\"][i]/max(data[\"real\"][i])\n",
    "    Y[i] = -1\n",
    "\n",
    "for i in range(len(data[\"fake\"])):\n",
    "    bound = max(data[\"fake\"][i])\n",
    "    if bound == 0:\n",
    "        bound = 1\n",
    "    \n",
    "    X[len(data[\"real\"])+i] = data[\"real\"][i]/bound # Normalizing Data [0 <--> 1]\n",
    "    Y[len(data[\"real\"])+i] = 1"
   ]
  },
  {
   "cell_type": "code",
   "execution_count": 153,
   "metadata": {},
   "outputs": [],
   "source": [
    "x_train, x_test, y_train, y_test = train_test_split(X, Y, test_size=0.24, random_state=42)"
   ]
  },
  {
   "cell_type": "code",
   "execution_count": 154,
   "metadata": {},
   "outputs": [
    {
     "data": {
      "text/html": [
       "<style>#sk-container-id-12 {color: black;}#sk-container-id-12 pre{padding: 0;}#sk-container-id-12 div.sk-toggleable {background-color: white;}#sk-container-id-12 label.sk-toggleable__label {cursor: pointer;display: block;width: 100%;margin-bottom: 0;padding: 0.3em;box-sizing: border-box;text-align: center;}#sk-container-id-12 label.sk-toggleable__label-arrow:before {content: \"▸\";float: left;margin-right: 0.25em;color: #696969;}#sk-container-id-12 label.sk-toggleable__label-arrow:hover:before {color: black;}#sk-container-id-12 div.sk-estimator:hover label.sk-toggleable__label-arrow:before {color: black;}#sk-container-id-12 div.sk-toggleable__content {max-height: 0;max-width: 0;overflow: hidden;text-align: left;background-color: #f0f8ff;}#sk-container-id-12 div.sk-toggleable__content pre {margin: 0.2em;color: black;border-radius: 0.25em;background-color: #f0f8ff;}#sk-container-id-12 input.sk-toggleable__control:checked~div.sk-toggleable__content {max-height: 200px;max-width: 100%;overflow: auto;}#sk-container-id-12 input.sk-toggleable__control:checked~label.sk-toggleable__label-arrow:before {content: \"▾\";}#sk-container-id-12 div.sk-estimator input.sk-toggleable__control:checked~label.sk-toggleable__label {background-color: #d4ebff;}#sk-container-id-12 div.sk-label input.sk-toggleable__control:checked~label.sk-toggleable__label {background-color: #d4ebff;}#sk-container-id-12 input.sk-hidden--visually {border: 0;clip: rect(1px 1px 1px 1px);clip: rect(1px, 1px, 1px, 1px);height: 1px;margin: -1px;overflow: hidden;padding: 0;position: absolute;width: 1px;}#sk-container-id-12 div.sk-estimator {font-family: monospace;background-color: #f0f8ff;border: 1px dotted black;border-radius: 0.25em;box-sizing: border-box;margin-bottom: 0.5em;}#sk-container-id-12 div.sk-estimator:hover {background-color: #d4ebff;}#sk-container-id-12 div.sk-parallel-item::after {content: \"\";width: 100%;border-bottom: 1px solid gray;flex-grow: 1;}#sk-container-id-12 div.sk-label:hover label.sk-toggleable__label {background-color: #d4ebff;}#sk-container-id-12 div.sk-serial::before {content: \"\";position: absolute;border-left: 1px solid gray;box-sizing: border-box;top: 0;bottom: 0;left: 50%;z-index: 0;}#sk-container-id-12 div.sk-serial {display: flex;flex-direction: column;align-items: center;background-color: white;padding-right: 0.2em;padding-left: 0.2em;position: relative;}#sk-container-id-12 div.sk-item {position: relative;z-index: 1;}#sk-container-id-12 div.sk-parallel {display: flex;align-items: stretch;justify-content: center;background-color: white;position: relative;}#sk-container-id-12 div.sk-item::before, #sk-container-id-12 div.sk-parallel-item::before {content: \"\";position: absolute;border-left: 1px solid gray;box-sizing: border-box;top: 0;bottom: 0;left: 50%;z-index: -1;}#sk-container-id-12 div.sk-parallel-item {display: flex;flex-direction: column;z-index: 1;position: relative;background-color: white;}#sk-container-id-12 div.sk-parallel-item:first-child::after {align-self: flex-end;width: 50%;}#sk-container-id-12 div.sk-parallel-item:last-child::after {align-self: flex-start;width: 50%;}#sk-container-id-12 div.sk-parallel-item:only-child::after {width: 0;}#sk-container-id-12 div.sk-dashed-wrapped {border: 1px dashed gray;margin: 0 0.4em 0.5em 0.4em;box-sizing: border-box;padding-bottom: 0.4em;background-color: white;}#sk-container-id-12 div.sk-label label {font-family: monospace;font-weight: bold;display: inline-block;line-height: 1.2em;}#sk-container-id-12 div.sk-label-container {text-align: center;}#sk-container-id-12 div.sk-container {/* jupyter's `normalize.less` sets `[hidden] { display: none; }` but bootstrap.min.css set `[hidden] { display: none !important; }` so we also need the `!important` here to be able to override the default hidden behavior on the sphinx rendered scikit-learn.org. See: https://github.com/scikit-learn/scikit-learn/issues/21755 */display: inline-block !important;position: relative;}#sk-container-id-12 div.sk-text-repr-fallback {display: none;}</style><div id=\"sk-container-id-12\" class=\"sk-top-container\"><div class=\"sk-text-repr-fallback\"><pre>RandomForestClassifier(n_estimators=20)</pre><b>In a Jupyter environment, please rerun this cell to show the HTML representation or trust the notebook. <br />On GitHub, the HTML representation is unable to render, please try loading this page with nbviewer.org.</b></div><div class=\"sk-container\" hidden><div class=\"sk-item\"><div class=\"sk-estimator sk-toggleable\"><input class=\"sk-toggleable__control sk-hidden--visually\" id=\"sk-estimator-id-12\" type=\"checkbox\" checked><label for=\"sk-estimator-id-12\" class=\"sk-toggleable__label sk-toggleable__label-arrow\">RandomForestClassifier</label><div class=\"sk-toggleable__content\"><pre>RandomForestClassifier(n_estimators=20)</pre></div></div></div></div></div>"
      ],
      "text/plain": [
       "RandomForestClassifier(n_estimators=20)"
      ]
     },
     "execution_count": 154,
     "metadata": {},
     "output_type": "execute_result"
    }
   ],
   "source": [
    "model = RandomForestClassifier(n_estimators=20)\n",
    "model.fit(x_train, y_train)"
   ]
  },
  {
   "cell_type": "code",
   "execution_count": 155,
   "metadata": {},
   "outputs": [
    {
     "name": "stdout",
     "output_type": "stream",
     "text": [
      "0.9895470383275261\n"
     ]
    }
   ],
   "source": [
    "print(model.score(x_test, y_test))"
   ]
  },
  {
   "cell_type": "code",
   "execution_count": 156,
   "metadata": {},
   "outputs": [
    {
     "name": "stdout",
     "output_type": "stream",
     "text": [
      "[[250   1]\n",
      " [  2  34]]\n"
     ]
    }
   ],
   "source": [
    "y_predicted = model.predict(x_test)\n",
    "cm = confusion_matrix(y_test, y_predicted)\n",
    "print(cm)"
   ]
  },
  {
   "cell_type": "code",
   "execution_count": 157,
   "metadata": {},
   "outputs": [
    {
     "ename": "ProfileNotExistsException",
     "evalue": "Profile sid19.karanam does not exist.",
     "output_type": "error",
     "traceback": [
      "\u001b[1;31m---------------------------------------------------------------------------\u001b[0m",
      "\u001b[1;31mProfileNotExistsException\u001b[0m                 Traceback (most recent call last)",
      "\u001b[1;32md:\\Random Projects\\fake-profile-app\\model_instagram.ipynb Cell 12\u001b[0m line \u001b[0;36m3\n\u001b[0;32m      <a href='vscode-notebook-cell:/d%3A/Random%20Projects/fake-profile-app/model_instagram.ipynb#X14sZmlsZQ%3D%3D?line=0'>1</a>\u001b[0m bot \u001b[39m=\u001b[39m instaloader\u001b[39m.\u001b[39mInstaloader()\n\u001b[0;32m      <a href='vscode-notebook-cell:/d%3A/Random%20Projects/fake-profile-app/model_instagram.ipynb#X14sZmlsZQ%3D%3D?line=1'>2</a>\u001b[0m \u001b[39mtry\u001b[39;00m:\n\u001b[1;32m----> <a href='vscode-notebook-cell:/d%3A/Random%20Projects/fake-profile-app/model_instagram.ipynb#X14sZmlsZQ%3D%3D?line=2'>3</a>\u001b[0m     user \u001b[39m=\u001b[39m instaloader\u001b[39m.\u001b[39;49mProfile\u001b[39m.\u001b[39;49mfrom_username(bot\u001b[39m.\u001b[39;49mcontext, \u001b[39minput\u001b[39;49m())\n\u001b[0;32m      <a href='vscode-notebook-cell:/d%3A/Random%20Projects/fake-profile-app/model_instagram.ipynb#X14sZmlsZQ%3D%3D?line=3'>4</a>\u001b[0m     digits \u001b[39m=\u001b[39m \u001b[39m0\u001b[39m\n\u001b[0;32m      <a href='vscode-notebook-cell:/d%3A/Random%20Projects/fake-profile-app/model_instagram.ipynb#X14sZmlsZQ%3D%3D?line=4'>5</a>\u001b[0m     length \u001b[39m=\u001b[39m \u001b[39m0\u001b[39m\n",
      "File \u001b[1;32mc:\\Python311\\Lib\\site-packages\\instaloader\\structures.py:737\u001b[0m, in \u001b[0;36mProfile.from_username\u001b[1;34m(cls, context, username)\u001b[0m\n\u001b[0;32m    735\u001b[0m \u001b[39m# pylint:disable=protected-access\u001b[39;00m\n\u001b[0;32m    736\u001b[0m profile \u001b[39m=\u001b[39m \u001b[39mcls\u001b[39m(context, {\u001b[39m'\u001b[39m\u001b[39musername\u001b[39m\u001b[39m'\u001b[39m: username\u001b[39m.\u001b[39mlower()})\n\u001b[1;32m--> 737\u001b[0m profile\u001b[39m.\u001b[39;49m_obtain_metadata()  \u001b[39m# to raise ProfileNotExistsException now in case username is invalid\u001b[39;00m\n\u001b[0;32m    738\u001b[0m \u001b[39mreturn\u001b[39;00m profile\n",
      "File \u001b[1;32mc:\\Python311\\Lib\\site-packages\\instaloader\\structures.py:809\u001b[0m, in \u001b[0;36mProfile._obtain_metadata\u001b[1;34m(self)\u001b[0m\n\u001b[0;32m    806\u001b[0m metadata \u001b[39m=\u001b[39m \u001b[39mself\u001b[39m\u001b[39m.\u001b[39m_context\u001b[39m.\u001b[39mget_iphone_json(\u001b[39mf\u001b[39m\u001b[39m'\u001b[39m\u001b[39mapi/v1/users/web_profile_info/?username=\u001b[39m\u001b[39m{\u001b[39;00m\u001b[39mself\u001b[39m\u001b[39m.\u001b[39musername\u001b[39m}\u001b[39;00m\u001b[39m'\u001b[39m,\n\u001b[0;32m    807\u001b[0m                                          params\u001b[39m=\u001b[39m{})\n\u001b[0;32m    808\u001b[0m \u001b[39mif\u001b[39;00m metadata[\u001b[39m'\u001b[39m\u001b[39mdata\u001b[39m\u001b[39m'\u001b[39m][\u001b[39m'\u001b[39m\u001b[39muser\u001b[39m\u001b[39m'\u001b[39m] \u001b[39mis\u001b[39;00m \u001b[39mNone\u001b[39;00m:\n\u001b[1;32m--> 809\u001b[0m     \u001b[39mraise\u001b[39;00m ProfileNotExistsException(\u001b[39m'\u001b[39m\u001b[39mProfile \u001b[39m\u001b[39m{}\u001b[39;00m\u001b[39m does not exist.\u001b[39m\u001b[39m'\u001b[39m\u001b[39m.\u001b[39mformat(\u001b[39mself\u001b[39m\u001b[39m.\u001b[39musername))\n\u001b[0;32m    810\u001b[0m \u001b[39mself\u001b[39m\u001b[39m.\u001b[39m_node \u001b[39m=\u001b[39m metadata[\u001b[39m'\u001b[39m\u001b[39mdata\u001b[39m\u001b[39m'\u001b[39m][\u001b[39m'\u001b[39m\u001b[39muser\u001b[39m\u001b[39m'\u001b[39m]\n\u001b[0;32m    811\u001b[0m \u001b[39mself\u001b[39m\u001b[39m.\u001b[39m_has_full_metadata \u001b[39m=\u001b[39m \u001b[39mTrue\u001b[39;00m\n",
      "\u001b[1;31mProfileNotExistsException\u001b[0m: Profile sid19.karanam does not exist."
     ]
    }
   ],
   "source": [
    "bot = instaloader.Instaloader()\n",
    "try:\n",
    "    user = instaloader.Profile.from_username(bot.context, input())\n",
    "    digits = 0\n",
    "    length = 0\n",
    "    for i in user.username:\n",
    "        if i.isdigit():\n",
    "            digits+=1\n",
    "        length+=1\n",
    "    x = np.array([[user.followers, user.followees, len(user.biography),user.mediacount, 1 if(user.profile_pic_url) else 0, int(user.is_private), digits, length]])\n",
    "    nans = np.isnan(x)\n",
    "    x[nans] = 0\n",
    "    y = model.predict(x)\n",
    "    print(\"Real\" if y[0] == 1 else \"Fake\")\n",
    "except:\n",
    "    print(\"Error\")"
   ]
  }
 ],
 "metadata": {
  "kernelspec": {
   "display_name": "Python 3",
   "language": "python",
   "name": "python3"
  },
  "language_info": {
   "codemirror_mode": {
    "name": "ipython",
    "version": 3
   },
   "file_extension": ".py",
   "mimetype": "text/x-python",
   "name": "python",
   "nbconvert_exporter": "python",
   "pygments_lexer": "ipython3",
   "version": "3.11.0"
  },
  "orig_nbformat": 4
 },
 "nbformat": 4,
 "nbformat_minor": 2
}
